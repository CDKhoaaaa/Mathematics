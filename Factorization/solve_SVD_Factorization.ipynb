{
 "cells": [
  {
   "cell_type": "code",
   "execution_count": 79,
   "metadata": {},
   "outputs": [],
   "source": [
    "import numpy as np\n",
    "from scipy.linalg import svd"
   ]
  },
  {
   "cell_type": "code",
   "execution_count": 80,
   "metadata": {},
   "outputs": [],
   "source": [
    "ma_tran_vuong = np.array([[1, 2, 3], [4, 5, 6], [7, 8, 9]])\n",
    "ma_tran_hcn1  = np.array([[1, 2], [3, 4], [5, 6]])\n",
    "ma_tran_hcn2  = np.array([[3, 1, 1], [-1, 3, 1]])"
   ]
  },
  {
   "cell_type": "code",
   "execution_count": 81,
   "metadata": {},
   "outputs": [
    {
     "data": {
      "text/plain": [
       "array([[1, 2],\n",
       "       [3, 4],\n",
       "       [5, 6]])"
      ]
     },
     "execution_count": 81,
     "metadata": {},
     "output_type": "execute_result"
    }
   ],
   "source": [
    "A = ma_tran_hcn1\n",
    "A"
   ]
  },
  {
   "cell_type": "code",
   "execution_count": 83,
   "metadata": {},
   "outputs": [
    {
     "data": {
      "text/plain": [
       "array([[9.52551809, 0.        ],\n",
       "       [0.        , 0.51430058],\n",
       "       [0.        , 0.        ]])"
      ]
     },
     "execution_count": 83,
     "metadata": {},
     "output_type": "execute_result"
    }
   ],
   "source": [
    "# A = U* V.T * inv(S)\n",
    "# A: ma trận muốn phân rã\n",
    "# U: ma trận trực giao (left-eigen vectors)\n",
    "# V.T: ma trận trực giao (right-eigen vectors)\n",
    "# S[m, n] là một ma trận đường chéo chứa các real-non negative singular values (giá trị riêng không âm), s có cùng dòng và cột với A\n",
    "\n",
    "\"\"\" \n",
    "    Nếu biến S là ma trận đường chéo cùng kích thước với ma trận A, gọi là compact SVD\"\"\"\n",
    "\n",
    "# truncated SVD\n",
    "def SVD(A):\n",
    "    U, sglrValues, VT = svd(A)\n",
    "    m = A.shape[0]\n",
    "    n = A.shape[1]\n",
    "    k = min(m,n)\n",
    "    # Tạo ma trận đường chéo    \n",
    "    S = np.zeros(A.shape)\n",
    "    S[:k,:k] = np.diag(sglrValues)\n",
    "    S_inv = np.diag(1 / sglrValues)\n",
    "    return (U,S,S_inv,VT)\n",
    "\n",
    "def compact_SVD(A):\n",
    "    U, sglrValues, VT = svd(A, full_matrices=False)\n",
    "    m = A.shape[0]\n",
    "    n = A.shape[1]\n",
    "    S     = np.diag(sglrValues)\n",
    "    S_inv = np.diag(1 / sglrValues)\n",
    "    VT    = VT[:m, :n]\n",
    "    U     = A @ (VT.T) @ S_inv\n",
    "    return (U,S,S_inv,VT)\n"
   ]
  }
 ],
 "metadata": {
  "kernelspec": {
   "display_name": "Python 3",
   "language": "python",
   "name": "python3"
  },
  "language_info": {
   "codemirror_mode": {
    "name": "ipython",
    "version": 3
   },
   "file_extension": ".py",
   "mimetype": "text/x-python",
   "name": "python",
   "nbconvert_exporter": "python",
   "pygments_lexer": "ipython3",
   "version": "3.10.11"
  }
 },
 "nbformat": 4,
 "nbformat_minor": 2
}
