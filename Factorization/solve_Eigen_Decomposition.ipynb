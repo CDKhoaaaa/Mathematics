{
 "cells": [
  {
   "cell_type": "code",
   "execution_count": 258,
   "metadata": {},
   "outputs": [],
   "source": [
    "import numpy as np\n",
    "from numpy import linalg   as la\n",
    "from numpy.linalg import eig"
   ]
  },
  {
   "cell_type": "code",
   "execution_count": 264,
   "metadata": {},
   "outputs": [
    {
     "name": "stderr",
     "output_type": "stream",
     "text": [
      "C:\\Users\\HP\\AppData\\Local\\Temp\\ipykernel_26144\\1204985450.py:57: ComplexWarning: Casting complex values to real discards the imaginary part\n",
      "  A = np.rint(Q @ lambda_ @ np.linalg.inv(Q)).astype(int)\n"
     ]
    },
    {
     "data": {
      "text/plain": [
       "3732.000000000001"
      ]
     },
     "execution_count": 264,
     "metadata": {},
     "output_type": "execute_result"
    }
   ],
   "source": [
    "min, max, m, n = 1, 10, 5, 5\n",
    "A = np.random.randint(min, max, (m,n))\n",
    "eig_values, eig_vectors = eig(A)\n",
    "\n",
    "#Kiểm chứng eigenvector đầu tiên: A.v[0] = lambda[0].v[0] ?\n",
    "\n",
    "# Kết quả giống nhau:\n",
    "  # v[0] là vector riêng của A\n",
    "  # lambda[0] là trị riêng của A\n",
    "# Kết quả khác nhau\n",
    "  # v[0] không là vector riêng của A\n",
    "  # Sai số tính toán\n",
    "  # Phép nhân không thỏa mãn\n",
    "\n",
    "def check_eigenvector(A, values, vectors):\n",
    "    v0      = vectors[:, 0]\n",
    "    lambda0 = values[0]     # Chú ý phần số thực\n",
    "    print('A @ v[0]         =', A @ v0)\n",
    "    print('lambda[0] @ v[0] =', lambda0 * v0)\n",
    "\n",
    "\n",
    "# Vị trí của nghiệm thực trong eig_values\n",
    "def real_number_index(eig_values):\n",
    "    r_number_index = []\n",
    "    for j in range(len(eig_values)):\n",
    "        if np.isreal(eig_values[j]):\n",
    "            r_number_index.append(j)\n",
    "        else:\n",
    "            continue\n",
    "    return r_number_index\n",
    "\n",
    "\"\"\" Kiểm tra ma trận có chéo hóa được không? \n",
    "    + Nếu ma trận A có n x n thì có nhiều nhất n giá trị riêng phân biệt, \"\"\"\n",
    "\n",
    "def check_diagonalizable_maxtrix(A):\n",
    "    # Kiểm tra ma trận vuông\n",
    "    if A.shape[0] == A.shape[1]:\n",
    "        eig_values, eig_vectors = np.linalg.eig(A)\n",
    "        # Kiểm tra số lượng giá trị riêng phân biệt\n",
    "        unique_values = np.unique(eig_values)\n",
    "        if unique_values.shape[0] != eig_values.shape[0]:\n",
    "            return False\n",
    "        # Kiểm tra tính độc lập tuyến\n",
    "        elif np.linalg.det(A) == 0:\n",
    "            return False\n",
    "        elif np.linalg.matrix_rank(eig_vectors) != eig_vectors.shape[0]:\n",
    "            return False\n",
    "        else:\n",
    "            return True\n",
    "    return False\n",
    "\n",
    "\n",
    "\n",
    "def diagonalizable_maxtrix(eig_values, eig_vectors):\n",
    "    lambda_ = np.diag(eig_values)\n",
    "    Q = eig_vectors\n",
    "    A = np.rint(Q @ lambda_ @ np.linalg.inv(Q)).astype(int)\n",
    "    return A\n",
    "\n",
    "np.linalg.det(diagonalizable_maxtrix(eig_values, eig_vectors))\n",
    "    \n",
    "    \n",
    "\n",
    "\n",
    "\n"
   ]
  },
  {
   "cell_type": "code",
   "execution_count": 263,
   "metadata": {},
   "outputs": [
    {
     "data": {
      "text/plain": [
       "True"
      ]
     },
     "execution_count": 263,
     "metadata": {},
     "output_type": "execute_result"
    }
   ],
   "source": [
    "check_diagonalizable_maxtrix(A)"
   ]
  }
 ],
 "metadata": {
  "kernelspec": {
   "display_name": "Python 3",
   "language": "python",
   "name": "python3"
  },
  "language_info": {
   "codemirror_mode": {
    "name": "ipython",
    "version": 3
   },
   "file_extension": ".py",
   "mimetype": "text/x-python",
   "name": "python",
   "nbconvert_exporter": "python",
   "pygments_lexer": "ipython3",
   "version": "3.10.11"
  }
 },
 "nbformat": 4,
 "nbformat_minor": 2
}
