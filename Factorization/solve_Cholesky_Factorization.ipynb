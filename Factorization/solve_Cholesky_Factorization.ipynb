{
 "cells": [
  {
   "cell_type": "code",
   "execution_count": 3,
   "metadata": {},
   "outputs": [],
   "source": [
    "import numpy as np\n",
    "from numpy import linalg as la\n",
    "from numpy.linalg import inv\n",
    "from scipy.linalg import cholesky, solve, eig, la"
   ]
  },
  {
   "cell_type": "code",
   "execution_count": 2,
   "metadata": {},
   "outputs": [],
   "source": [
    "\"\"\"-------------------------- GIẢI PHƯƠNG TRÌNH A.X = B VỚI PHÂN RÃ CHOLESKY---------------------------------\"\"\"\n",
    "# Để giải pt AX = B thì ma trận A phải là ma trận vuông đối xứng và xác định dương\n",
    "# -------------------------- KIỂM TRA MA TRẬN ĐỐI XỨNG (Symmetric matrix)---------------------------------\n",
    "# 1. Kiểm tra ma trận vuông\n",
    "# 2. Kiểm tra đối xứng.\n",
    "def is_SymmetricMatrix(A):\n",
    "    try:\n",
    "        if A.shape[0] != A.shape[1]: # 1\n",
    "            raise ValueError('Ma trận không phải là ma trận vuông')\n",
    "        for i in range(A.shape[0]):\n",
    "            for j in range(i+1, A.shape[1]): #2\n",
    "                if A[i][j] != A[j][i]:\n",
    "                    return False  \n",
    "        return True\n",
    "    except ValueError as ve:\n",
    "        return f'ValueError: {ve}'\n",
    "    except Exception as e:\n",
    "        return f'Có lỗi xảy ra: {e}'\n",
    "    \n",
    "# -------------------------- KIỂM TRA MA TRẬN XÁC ĐỊNH DƯƠNG (POSITIVE DEFINITE)---------------------------------\n",
    "# Một ma trận bán xác định dương là một ma trận Hermitian mà tất cả các trị riêng của nó đều không âm.\n",
    "def is_PositiveDefinite_Matrix(A):\n",
    "    eigenValues, eigenVectors = la.eig(A)\n",
    "    pos_def = np.all(eigenValues > 0)\n",
    "    if (pos_def == False):\n",
    "        return True\n",
    "    return True\n",
    "\n",
    "# -------------------------- HÀM TẠO MA TRẬN XÁC ĐỊNH DƯƠNG (POSITIVE DEFINITE)---------------------------------\n",
    "def create_matrix_positive_definite(m, n, start, end):\n",
    "    A       = None\n",
    "    pos_def = False\n",
    "\n",
    "    while (pos_def == False):\n",
    "        A = np.random.randint(start, end, (m, n))\n",
    "        for i in range(A.shape[0]):\n",
    "            for j in range(i):\n",
    "                A[j][i] = A[i][j]\n",
    "        test    = np.linalg.eigvalsh(A)\n",
    "        pos_def = np.all(test > 0)\n",
    "    return A\n",
    "\n",
    "# -------------------------- HÀM GIẢI PHƯƠNG TRÌNH---------------------------------\n",
    "def solve_Cholesky_factorization(A,B):\n",
    "    try:\n",
    "        if is_SymmetricMatrix(A) == False or is_PositiveDefinite_Matrix(A) == False:\n",
    "            raise ValueError('Ma trận hệ số không đủ điều kiện để phân rã Cholesky')\n",
    "        \"\"\" A.X = B\n",
    "            Phân rã Cholesky: A = L x (L.T) hoặc A = (U.T) x U\n",
    "            => (U.T) x U x X = B\n",
    "            Đặt U x X = Y\n",
    "            => (U.T) x Y = B <=> Y = B x inv(U.T)\n",
    "            Giải X = Y x inv(U)\n",
    "            \"\"\"\n",
    "        U = cholesky(A, lower = False)\n",
    "        Y = B @ inv(U.T)\n",
    "        X = np.linalg.solve(Y, inv(U))\n",
    "        return X\n",
    "    except ValueError as ve:\n",
    "        return (f'ValueError: {ve}')\n",
    "    except Exception as e:\n",
    "        return (f'Có lỗi xảy ra: {e}')\n",
    "\n",
    "        "
   ]
  }
 ],
 "metadata": {
  "kernelspec": {
   "display_name": "Python 3",
   "language": "python",
   "name": "python3"
  },
  "language_info": {
   "codemirror_mode": {
    "name": "ipython",
    "version": 3
   },
   "file_extension": ".py",
   "mimetype": "text/x-python",
   "name": "python",
   "nbconvert_exporter": "python",
   "pygments_lexer": "ipython3",
   "version": "3.10.11"
  }
 },
 "nbformat": 4,
 "nbformat_minor": 2
}
