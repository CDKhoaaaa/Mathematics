{
 "cells": [
  {
   "cell_type": "code",
   "execution_count": 23,
   "metadata": {},
   "outputs": [],
   "source": [
    "import numpy as np\n",
    "from numpy.linalg import inv, qr, det\n",
    "\n",
    "# A = Q x R\n",
    "# Q: Ma trận trực chuẩn, để ma trận trực chuẩn phải trực giao\n",
    "# R: Ma trận tam giác trên"
   ]
  },
  {
   "cell_type": "code",
   "execution_count": 24,
   "metadata": {},
   "outputs": [],
   "source": [
    "\"\"\" A = Q x R\n",
    "    Q: Ma trận trực chuẩn, để ma trận trực chuẩn phải trực giao\n",
    "    R: Ma trận tam giác trên\n",
    "\n",
    "    Kiểm tra ma trận Q có trực giao \n",
    "    + Q x (Q.T)  = (Q.T) x Q = I\n",
    "    + Q x inv(Q) = I\n",
    "    Nhân inv(Q) cho 2 vế của  (Q.T) x Q = I\n",
    "    <=> inv(Q) x Q x Q.T = I.inv(Q) \n",
    "    <=> I x Q.T = I.inv(Q) (Q x inv(Q) = I)\n",
    "    <=> Q.T = inv(Q)\n",
    "    * => M trận trực giao khi Q.T = inv(Q) \"\"\"\n",
    "\n",
    "def is_orthogonal(Q):\n",
    "    try:\n",
    "        # Kiểm tra xem kích thước của ma trận Q có phải là vuông không\n",
    "        if Q.shape[0] != Q.shape[1]:\n",
    "            raise ValueError('Ma trận Q không phải ma trận vuông')\n",
    "        else:\n",
    "            if np.allclose(Q.T, inv(Q)):\n",
    "                return True\n",
    "            return False\n",
    "    except ValueError as ve:\n",
    "        return (f'ValueError: {ve}')\n",
    "    except Exception as e:\n",
    "        return (f'Có lỗi xảy ra: {e}')\n",
    "\n",
    "def norm_each_cols(Q):\n",
    "    for i in range(Q.shape[1]):\n",
    "        Q_norm = np.linalg.norm(Q[:,i])\n",
    "        if Q_norm != 0:\n",
    "            print(Q_norm)\n",
    "            return False\n",
    "    return True\n",
    "\n",
    "\"\"\" Phân rã QR: A = Q.R\n",
    "    Hệ pt tuyến tính: A.X = B\n",
    "    Ta có: Q.R.X = B\n",
    "    Đặt R.X = Y\n",
    "    <=> Q.Y = B\n",
    "    => Y = B.inv(Q)\n",
    "    => X = Y.inv(R)\n",
    "    \"\"\"\n",
    "\n",
    "def solve_QR_factorization(vector_heso, vector_heso_tudo):\n",
    "    try:\n",
    "        # Kiểm tra ma trận trước khi phân rã\n",
    "        if vector_heso.shape[0] != vector_heso.shape[1]:\n",
    "            raise ValueError('Ma trận hệ số không phải ma trận vuông')\n",
    "        \n",
    "        Q,R = qr(vector_heso)\n",
    "        # Kiểm tra ma trận Q và R có khả nghịch không?\n",
    "        if det(Q)!= 0 and det(R)!= 0:\n",
    "            Y = vector_heso_tudo @ inv(Q)\n",
    "            X = np.linalg.solve(R, Y)\n",
    "            return X\n",
    "        else:\n",
    "             raise ValueError('Ma trận Q hoặc R không khả nghịch')\n",
    "\n",
    "    except ValueError as ve:\n",
    "        return (f'ValueError: {ve}')\n",
    "    except Exception as e:\n",
    "        return (f'Có lỗi xảy ra: {e}')\n",
    "\n",
    "\n",
    "\n",
    "\n"
   ]
  },
  {
   "cell_type": "code",
   "execution_count": 25,
   "metadata": {},
   "outputs": [],
   "source": [
    "# A = Q x R\n",
    "# Q: Ma trận trực chuẩn, để ma trận trực chuẩn phải trực giao\n",
    "# R: Ma trận tam giác trên\n",
    "A = np.array([[1, 2], [3, 4]])\n",
    "# Vector hệ số tự do B\n",
    "B = np.array([7, 8])\n",
    "# Giải hệ phương trình A*X = B\n",
    "\"\"\" Phân rã QR: A = Q.R\n",
    "    Hệ pt tuyến tính: A.X = B\n",
    "    Ta có: Q.R.X = B\n",
    "    Đặt R.X = Y\n",
    "    <=> Q.Y = B\n",
    "    => Y = B.inv(Q)\n",
    "    => X = Y.inv(R)\n",
    "    \"\"\"\n",
    "def solve_QR_factorization(vector_heso, vector_heso_tudo):\n",
    "    try:\n",
    "        # Kiểm tra ma trận trước khi phân rã\n",
    "        if vector_heso.shape[0] != vector_heso.shape[1]:\n",
    "            raise ValueError('Ma trận hệ số không phải ma trận vuông')\n",
    "        \n",
    "        Q,R = qr(vector_heso)\n",
    "        # Kiểm tra ma trận Q và R có khả nghịch không?\n",
    "        if det(Q)!= 0 and det(R)!= 0:\n",
    "            Y = vector_heso_tudo @ inv(Q)\n",
    "            X = np.linalg.solve(R, Y)\n",
    "            return X\n",
    "        else:\n",
    "             raise ValueError('Ma trận Q hoặc R không khả nghịch')\n",
    "\n",
    "    except ValueError as ve:\n",
    "        return (f'ValueError: {ve}')\n",
    "    except Exception as e:\n",
    "        return (f'Có lỗi xảy ra: {e}')\n"
   ]
  },
  {
   "cell_type": "code",
   "execution_count": 26,
   "metadata": {},
   "outputs": [
    {
     "data": {
      "text/plain": [
       "array([-6. ,  6.5])"
      ]
     },
     "execution_count": 26,
     "metadata": {},
     "output_type": "execute_result"
    }
   ],
   "source": [
    "solve_QR_factorization(A,B)"
   ]
  },
  {
   "cell_type": "code",
   "execution_count": 27,
   "metadata": {},
   "outputs": [],
   "source": [
    "def solve_QR_factorization(vector_heso, vector_heso_tudo):\n",
    "    try:\n",
    "        # Kiểm tra ma trận trước khi phân rã\n",
    "        if vector_heso.shape[0] != vector_heso.shape[1]:\n",
    "            raise ValueError('Ma trận hệ số không phải ma trận vuông')\n",
    "        \n",
    "        Q, R = np.linalg.qr(vector_heso)\n",
    "        \n",
    "        # Kiểm tra ma trận Q và R có khả nghịch không?\n",
    "        if np.linalg.det(Q) != 0 and np.linalg.det(R) != 0:\n",
    "            Y = np.linalg.inv(Q) @ vector_heso_tudo\n",
    "            X = np.linalg.solve(R, Y)\n",
    "            return X\n",
    "        else:\n",
    "            raise ValueError('Ma trận Q hoặc R không khả nghịch')\n",
    "\n",
    "    except ValueError as ve:\n",
    "        return f'ValueError: {ve}'\n",
    "    except Exception as e:\n",
    "        return f'Có lỗi xảy ra: {e}'"
   ]
  },
  {
   "cell_type": "code",
   "execution_count": 28,
   "metadata": {},
   "outputs": [
    {
     "name": "stdout",
     "output_type": "stream",
     "text": [
      "1.0\n"
     ]
    },
    {
     "data": {
      "text/plain": [
       "False"
      ]
     },
     "execution_count": 28,
     "metadata": {},
     "output_type": "execute_result"
    }
   ],
   "source": [
    "A = np.array([[2, 1, 1], [1, 3, 2],[1, 0, 0]])\n",
    "B = np.array([4, 5, 6])\n",
    "Q, R = np.linalg.qr(A)\n",
    "norm_each_cols(np.rint(Q))\n"
   ]
  }
 ],
 "metadata": {
  "kernelspec": {
   "display_name": "Python 3",
   "language": "python",
   "name": "python3"
  },
  "language_info": {
   "codemirror_mode": {
    "name": "ipython",
    "version": 3
   },
   "file_extension": ".py",
   "mimetype": "text/x-python",
   "name": "python",
   "nbconvert_exporter": "python",
   "pygments_lexer": "ipython3",
   "version": "3.10.11"
  }
 },
 "nbformat": 4,
 "nbformat_minor": 2
}
